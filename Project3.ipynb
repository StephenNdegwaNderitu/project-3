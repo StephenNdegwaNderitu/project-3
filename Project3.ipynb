{
 "cells": [
  {
   "cell_type": "code",
   "execution_count": 1,
   "id": "6e7f5a6b-e5f4-4fb6-b3cb-df5de605adde",
   "metadata": {},
   "outputs": [],
   "source": [
    "import pandas as pd\n",
    "import numpy as np"
   ]
  },
  {
   "cell_type": "code",
   "execution_count": null,
   "id": "6ee783b7-eafd-4e3c-be21-4a355ea40154",
   "metadata": {},
   "outputs": [],
   "source": [
    "#1). Write a Python program to check whether a string is a palindrome or not using a stack. PS: Pay attention to the specified data structure.\n",
    "#palindrome a word, number or phrase that can be read the same from either direction (dad, 121) \n",
    "#Determining if a string is palindrome"
   ]
  },
  {
   "cell_type": "code",
   "execution_count": 1,
   "id": "73c8f1c4-84f7-4f01-9e06-bd4b14b8ffdc",
   "metadata": {},
   "outputs": [
    {
     "name": "stdout",
     "output_type": "stream",
     "text": [
      "True\n",
      "False\n"
     ]
    }
   ],
   "source": [
    "def isPalindrome(s):\n",
    "    return s == s[::-1]\n",
    "\n",
    "print(isPalindrome('poordanisinadroop'))\n",
    "print(isPalindrome('hellowolrd'))"
   ]
  },
  {
   "cell_type": "code",
   "execution_count": null,
   "id": "356d0f61-c7a8-4a0e-83d6-a68a3aabaf9f",
   "metadata": {},
   "outputs": [],
   "source": [
    "#Determining if a string is palindrome using stack(works on the element that was inserted last will be removed first)\n",
    "#Mainly with two operations: Push, which adds an element to the collection and Pop, which removes the most recently added\n",
    "#Push each character by character into a stack\n",
    "#Pop one by one character from the stack forming a new string\n",
    "#compare the reverse string with the initial one if same, string is Palindrome. "
   ]
  },
  {
   "cell_type": "code",
   "execution_count": 9,
   "id": "5a4e8b7a-33c9-4f62-ba68-d611ffbc4155",
   "metadata": {},
   "outputs": [
    {
     "name": "stdout",
     "output_type": "stream",
     "text": [
      "hellowolrd\n",
      "poordanisinadroop\n"
     ]
    }
   ],
   "source": [
    "data = []\n",
    "data.append('poordanisinadroop')\n",
    "data.append('hellowolrd')\n",
    "element = data.pop()\n",
    "element1 = data.pop()\n",
    "print(element)\n",
    "print(element1)"
   ]
  },
  {
   "cell_type": "code",
   "execution_count": 49,
   "id": "d70df270-f5fa-47f0-bdb8-6fabfe72c8bf",
   "metadata": {},
   "outputs": [
    {
     "name": "stdout",
     "output_type": "stream",
     "text": [
      "Palindrome\n"
     ]
    }
   ],
   "source": [
    "stack = []\n",
    "str1 = 'poordanisinadroop'  # The input string\n",
    "for char in str1:\n",
    "    if char != '':\n",
    "        stack.append(char)\n",
    "\n",
    "str2 = ''\n",
    "while len(stack) > 0:\n",
    "    char = stack.pop()\n",
    "    str2 = str2 + char  # Build the reversed string\n",
    "\n",
    "if str1 == str2:\n",
    "    print('Palindrome')\n",
    "else:\n",
    "    print('Not a Palindrome')\n"
   ]
  },
  {
   "cell_type": "code",
   "execution_count": null,
   "id": "f13329d2-9775-4fe3-becf-9a40f98bfe24",
   "metadata": {},
   "outputs": [],
   "source": [
    "#2). Explain the concept of list comprehension in Python with at least three examples.\n",
    "#List comprehension is a method that can be used to define and create a list from a string or another existing list. \n",
    "#Besides creating lists, we can filter and transform data using list comprehension, which Is more readable."
   ]
  },
  {
   "cell_type": "code",
   "execution_count": 63,
   "id": "45a9da9a-cb9e-4c26-bafb-a41228ca6eb0",
   "metadata": {},
   "outputs": [
    {
     "name": "stdout",
     "output_type": "stream",
     "text": [
      "['BLUE', 'GREEN', 'YELLOW', 'BLACK', 'PINK']\n",
      "['blue', 'black']\n",
      "[5, 5, 5, 5, 5]\n"
     ]
    }
   ],
   "source": [
    "colours = ['blue','green','yellow','black','pink']\n",
    "upper_colours = [colour.upper() for colour in colours] #converting a list of string to uppercase\n",
    "\n",
    "b_colours = [colour for colour in colours if colour.startswith ('b')] #selecting from a list \n",
    "\n",
    "char_len = [len(colours) for colour in colours] \n",
    "\n",
    "print(upper_colours)\n",
    "print(b_colours)\n",
    "print(char_len)"
   ]
  },
  {
   "cell_type": "code",
   "execution_count": null,
   "id": "223fbd99-7fae-47e7-92d1-3e4cd1a4e78b",
   "metadata": {},
   "outputs": [],
   "source": [
    "#3). Explain what a compound datatype is in Python with three examples.\n",
    "#Compound datatype is made up of multiple values or data structure that has several items of different types.\n",
    "#a).List a collection of items enclosed in square brackets and separated by commas and are mutable.\n",
    "#b).Tuple are enclosed in parentheses and elements cannot be modified once created. \n",
    "#c).Dictionary a collection of data-value pairs, where each data is associated with a value. "
   ]
  },
  {
   "cell_type": "code",
   "execution_count": 65,
   "id": "bea585c3-cdc6-4f3b-b5fb-9465ee3ada3b",
   "metadata": {},
   "outputs": [
    {
     "name": "stdout",
     "output_type": "stream",
     "text": [
      "[2024, 'Men', 2.0, 'Female']\n",
      "(2, 3, 4, 'cow', [2024, 'Men', 2.0, 'Female'])\n",
      "{'Name': 'John', 'Age': '20', 'Colours': ['blue', 'pink', 'black']}\n"
     ]
    }
   ],
   "source": [
    "my_list = [2024, 'Men', 2.0, 'Female'] #a list with an interger,string and float\n",
    "\n",
    "my_tuple = (2,3,4,'cow',[2024, 'Men', 2.0, 'Female']) #a tuple with an interger,string and list\n",
    "\n",
    "my_dict = {'Name':'John', 'Age':'20','Colours':['blue','pink','black']} #a dictionary having a string, an integer, and a list as values\n",
    "\n",
    "print(my_list)\n",
    "print(my_tuple)\n",
    "print(my_dict)"
   ]
  },
  {
   "cell_type": "code",
   "execution_count": null,
   "id": "23af0439-977a-433b-a7e2-5e29b55fbefa",
   "metadata": {},
   "outputs": [],
   "source": [
    "#4). Write a function that takes a string and returns a list of bigrams.\n",
    "#A bigram is a sequence of two adjacent letters in a string, by pairing each word with the one that follows it."
   ]
  },
  {
   "cell_type": "code",
   "execution_count": 69,
   "id": "60cb3703-d2ab-4448-a221-09ffa307a754",
   "metadata": {},
   "outputs": [
    {
     "name": "stdout",
     "output_type": "stream",
     "text": [
      "['he', 'el', 'll', 'lo']\n"
     ]
    }
   ],
   "source": [
    "def show_bigrams(char_string):\n",
    "    bigrams = []\n",
    "    \n",
    "    for i in range(len(char_string) - 1):\n",
    "        bigram = char_string[i:i+2]\n",
    "        bigrams.append(bigram)\n",
    "    \n",
    "    return bigrams\n",
    "\n",
    "char_string = \"hello\"\n",
    "bigrams = show_bigrams(char_string)\n",
    "print(bigrams) \n"
   ]
  },
  {
   "cell_type": "code",
   "execution_count": null,
   "id": "97153625-5fb0-424c-8b66-0c7d46f89b9b",
   "metadata": {},
   "outputs": [],
   "source": [
    "#5). Given a dictionary with keys as letters and values as lists of letters, \n",
    "#write a function closest_key to find the key with the input value closest to the beginning of the list."
   ]
  },
  {
   "cell_type": "code",
   "execution_count": 4,
   "id": "4ed7b47a-21ff-4142-a24b-8e61fd6e9cc9",
   "metadata": {},
   "outputs": [
    {
     "name": "stdout",
     "output_type": "stream",
     "text": [
      "a\n",
      "c\n"
     ]
    }
   ],
   "source": [
    "def closest_key(letter_dict, input_value):\n",
    "    closest_key = None  # This will store the key with the closest match\n",
    "    closest_index = None  # This will store the smallest index\n",
    "\n",
    "    for key in letter_dict:\n",
    "        value_list = letter_dict[key]  # Get the list for each key\n",
    "\n",
    "        if input_value in value_list:\n",
    "            index = value_list.index(input_value)  # Find the position of the input value\n",
    "\n",
    "            if closest_index is None or index < closest_index: # If it's the first match or closer to the beginning, update closest_key\n",
    "                closest_index = index\n",
    "                closest_key = key\n",
    "\n",
    "    return closest_key  # Return the key with the closest match\n",
    "\n",
    "letter_dict = {\n",
    "    'a': ['x', 'y', 'z'],\n",
    "    'b': ['p', 'q', 'r', 's'],\n",
    "    'c': ['a', 'b', 'c', 'd'],\n",
    "    'd': ['z', 'y', 'x']\n",
    "}\n",
    "\n",
    "print(closest_key(letter_dict, 'x')) \n",
    "print(closest_key(letter_dict, 'b')) \n"
   ]
  },
  {
   "cell_type": "code",
   "execution_count": null,
   "id": "6dc56d62-68bd-45aa-b38c-5335834dd52a",
   "metadata": {},
   "outputs": [],
   "source": []
  },
  {
   "cell_type": "code",
   "execution_count": null,
   "id": "99cd3c47-252a-4b25-a45f-79602e1a6999",
   "metadata": {},
   "outputs": [],
   "source": []
  }
 ],
 "metadata": {
  "kernelspec": {
   "display_name": "Python 3 (ipykernel)",
   "language": "python",
   "name": "python3"
  },
  "language_info": {
   "codemirror_mode": {
    "name": "ipython",
    "version": 3
   },
   "file_extension": ".py",
   "mimetype": "text/x-python",
   "name": "python",
   "nbconvert_exporter": "python",
   "pygments_lexer": "ipython3",
   "version": "3.12.4"
  }
 },
 "nbformat": 4,
 "nbformat_minor": 5
}
